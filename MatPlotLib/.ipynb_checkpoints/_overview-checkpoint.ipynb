{
 "cells": [
  {
   "cell_type": "code",
   "execution_count": 29,
   "metadata": {},
   "outputs": [],
   "source": [
    "import pandas\n",
    "from matplotlib import pyplot as pyplot\n",
    "from matplotlib import style\n",
    "import random"
   ]
  },
  {
   "cell_type": "code",
   "execution_count": 31,
   "metadata": {},
   "outputs": [
    {
     "ename": "SyntaxError",
     "evalue": "invalid syntax (<ipython-input-31-570b88dc0725>, line 3)",
     "output_type": "error",
     "traceback": [
      "\u001b[1;36m  File \u001b[1;32m\"<ipython-input-31-570b88dc0725>\"\u001b[1;36m, line \u001b[1;32m3\u001b[0m\n\u001b[1;33m    define createPlotPoints():\u001b[0m\n\u001b[1;37m                          ^\u001b[0m\n\u001b[1;31mSyntaxError\u001b[0m\u001b[1;31m:\u001b[0m invalid syntax\n"
     ]
    }
   ],
   "source": [
    "figure = pyplot.figure()\n",
    "style.use('fivethirtyeight')\n",
    "def createPlotPoints():\n",
    "    x = []\n",
    "    y = []\n",
    "    \n",
    "    for iterator in range(10):\n",
    "        xs = iterator\n",
    "        ys = random.randrange(10)\n",
    "        \n",
    "        x.append(xs)\n",
    "        y.append(ys)\n",
    "        \n",
    "    return x , y\n",
    "\n",
    "aPlot = figure.add_subplot(211)\n",
    "bPlot = figure.add_subplot(212)\n",
    "\n",
    "x , y = createPlotPoints\n",
    "aPlot.plot(x , y)\n",
    "\n",
    "x , y = createPlotPoints\n",
    "bPlot.plot(x , y)\n",
    "\n",
    "plot.show()"
   ]
  },
  {
   "cell_type": "code",
   "execution_count": null,
   "metadata": {},
   "outputs": [],
   "source": []
  }
 ],
 "metadata": {
  "kernelspec": {
   "display_name": "Python 3",
   "language": "python",
   "name": "python3"
  },
  "language_info": {
   "codemirror_mode": {
    "name": "ipython",
    "version": 3
   },
   "file_extension": ".py",
   "mimetype": "text/x-python",
   "name": "python",
   "nbconvert_exporter": "python",
   "pygments_lexer": "ipython3",
   "version": "3.7.0"
  }
 },
 "nbformat": 4,
 "nbformat_minor": 2
}
