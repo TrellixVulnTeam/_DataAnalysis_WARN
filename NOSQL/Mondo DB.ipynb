{
 "cells": [
  {
   "cell_type": "code",
   "execution_count": 2,
   "metadata": {},
   "outputs": [],
   "source": [
    "import pymongo"
   ]
  },
  {
   "cell_type": "markdown",
   "metadata": {},
   "source": [
    "## Establishing a connection"
   ]
  },
  {
   "cell_type": "code",
   "execution_count": 4,
   "metadata": {},
   "outputs": [],
   "source": [
    "client = pymongo.MongoClient(host = 'localhost' , port = 27017)\n",
    "# OR\n",
    "# client = pymongo.MongoClient('mongodb://localhost:27017')"
   ]
  },
  {
   "cell_type": "markdown",
   "metadata": {},
   "source": [
    "## Accessing Databases"
   ]
  },
  {
   "cell_type": "code",
   "execution_count": 5,
   "metadata": {},
   "outputs": [],
   "source": [
    "# Also creates a table if doesn't exist\n",
    "database = client.song"
   ]
  },
  {
   "cell_type": "markdown",
   "metadata": {},
   "source": [
    "## Inserting Data into the databases"
   ]
  },
  {
   "cell_type": "code",
   "execution_count": 11,
   "metadata": {},
   "outputs": [
    {
     "name": "stdout",
     "output_type": "stream",
     "text": [
      "Details posted with a return ID : 5c64f76702d46701ed1ce459 \n"
     ]
    }
   ],
   "source": [
    "# Creation of structure/block\n",
    "details = database.details\n",
    "\n",
    "details_data = {\n",
    "    'Name' : 'Prathamesh Gadre',\n",
    "    'PRN' : 11,\n",
    "    'Handle' : 'gudup'\n",
    "}\n",
    "\n",
    "result = details.insert_one(details_data)\n",
    "# insert_namy will take a list of details_data\n",
    "print('Details posted with a return ID : {0} ' .format(result.inserted_id))"
   ]
  },
  {
   "cell_type": "code",
   "execution_count": 8,
   "metadata": {
    "scrolled": true
   },
   "outputs": [
    {
     "data": {
      "text/plain": [
       "{'_id': ObjectId('5c64f6e502d46701ed1ce458'),\n",
       " 'Name': 'Tejas Shinde',\n",
       " 'PRN': 37,\n",
       " 'Handle': 'm4j0rd1rty'}"
      ]
     },
     "execution_count": 8,
     "metadata": {},
     "output_type": "execute_result"
    }
   ],
   "source": [
    "details.find_one({'Name' : 'Tejas Shinde'})"
   ]
  },
  {
   "cell_type": "code",
   "execution_count": 12,
   "metadata": {},
   "outputs": [],
   "source": [
    "client.local.log.startup_log.find_one({'_id' : 'm4j0rd1rty-1549865276264'})"
   ]
  }
 ],
 "metadata": {
  "kernelspec": {
   "display_name": "Python 3",
   "language": "python",
   "name": "python3"
  },
  "language_info": {
   "codemirror_mode": {
    "name": "ipython",
    "version": 3
   },
   "file_extension": ".py",
   "mimetype": "text/x-python",
   "name": "python",
   "nbconvert_exporter": "python",
   "pygments_lexer": "ipython3",
   "version": "3.6.7"
  }
 },
 "nbformat": 4,
 "nbformat_minor": 2
}
