{
 "cells": [
  {
   "cell_type": "code",
   "execution_count": 22,
   "metadata": {},
   "outputs": [
    {
     "name": "stdout",
     "output_type": "stream",
     "text": [
      "1      Tejas\n",
      "2    Marclus\n",
      "3     Vedant\n",
      "4     Aditya\n",
      "5     Ankesh\n",
      "dtype: object\n",
      "Tejas\n",
      "1      Tejas\n",
      "2    Marclus\n",
      "3     Vedant\n",
      "dtype: object\n",
      "1          Musk\n",
      "2    Zuckerberg\n",
      "3          Jack\n",
      "dtype: object\n"
     ]
    }
   ],
   "source": [
    "import pandas as pd\n",
    "\n",
    "list = [\"Tejas\",\"Marclus\",\"Vedant\",\"Aditya\",\"Ankesh\"]\n",
    "\n",
    "# pandas.Series(data , index , dtype , copy)\n",
    "series = pd.Series(list,index=[1,2,3,4,5])\n",
    "print(series)\n",
    "# Accessing values keywise\n",
    "print(series[1])\n",
    "# Accessing values indexwise\n",
    "print(series[0:3])\n",
    "\n",
    "dict = {1 : \"Musk\" , 2 : \"Zuckerberg\" , 3 : \"Jack\"}\n",
    "series = pd.Series(dict)\n",
    "print(series)"
   ]
  },
  {
   "cell_type": "code",
   "execution_count": 5,
   "metadata": {},
   "outputs": [
    {
     "name": "stdout",
     "output_type": "stream",
     "text": [
      "         Name  Age\n",
      "0       Tejas   21\n",
      "1      Aditya   25\n",
      "2  Prathamesh   20\n",
      "3     Marclus   21\n",
      "4       Alair   10\n",
      "25\n"
     ]
    }
   ],
   "source": [
    "import pandas as pd\n",
    "data = {\"Name\" : [\"Tejas\" , \"Aditya\" , \"Prathamesh\" , \"Marclus\" , \"Alair\"] , \"Age\" : [21,25,20,21,10]}\n",
    "dataFrame = pd.DataFrame(data)\n",
    "print(dataFrame)\n",
    "print(dataFrame.max(1))"
   ]
  },
  {
   "cell_type": "code",
   "execution_count": null,
   "metadata": {},
   "outputs": [],
   "source": []
  }
 ],
 "metadata": {
  "kernelspec": {
   "display_name": "Python 3",
   "language": "python",
   "name": "python3"
  },
  "language_info": {
   "codemirror_mode": {
    "name": "ipython",
    "version": 3
   },
   "file_extension": ".py",
   "mimetype": "text/x-python",
   "name": "python",
   "nbconvert_exporter": "python",
   "pygments_lexer": "ipython3",
   "version": "3.7.0"
  }
 },
 "nbformat": 4,
 "nbformat_minor": 2
}
