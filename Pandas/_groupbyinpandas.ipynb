{
 "cells": [
  {
   "cell_type": "code",
   "execution_count": 91,
   "metadata": {
    "scrolled": true
   },
   "outputs": [
    {
     "name": "stdout",
     "output_type": "stream",
     "text": [
      "    cust_id  ac_no  balance status  After incriment\n",
      "0   1176650  22997     5558   TRUE          6391.70\n",
      "1   1145675  20499     6671   TRUE          7671.65\n",
      "2   1187464  21576     3241  FALSE          3273.41\n",
      "3   1126381  21993     7242   TRUE          8328.30\n",
      "4   1113273  22322     8966   TRUE         10310.90\n",
      "5   1167539  20444     5224   TRUE          6007.60\n",
      "6   1188330  23800     7047   TRUE          8104.05\n",
      "7   1123737  22332     6878   TRUE          7909.70\n",
      "8   1179463  21057     2374  FALSE          2397.74\n",
      "9   1185360  20888     8004   TRUE          9204.60\n",
      "10  1195654  24081     7678   TRUE          8829.70\n",
      "11  1165729  24220     7148   TRUE          8220.20\n",
      "12  1184803  24169     6639   TRUE          7634.85\n",
      "13  1187993  22056     3971  FALSE          4010.71\n",
      "14  1145086  24500     4685  FALSE          4731.85\n",
      "15  1188913  21918     8075   TRUE          9286.25\n",
      "16  1129090  20870     7929   TRUE          9118.35\n",
      "17  1152212  22934     6995   TRUE          8044.25\n",
      "18  1122101  23618     6993   TRUE          8041.95\n",
      "19  1164701  20999     8816   TRUE         10138.40\n",
      "20  1181630  20374     3164  FALSE          3195.64\n",
      "21  1147867  21388     4631  FALSE          4677.31\n",
      "22  1113319  23666     5072   TRUE          5832.80\n",
      "23  1104128  22019     2921  FALSE          2950.21\n",
      "24  1195902  24066     4190  FALSE          4231.90\n",
      "25  1103928  20854     7044   TRUE          8100.60\n",
      "26  1114660  24739     3050  FALSE          3080.50\n",
      "27  1190296  24479     4701  FALSE          4748.01\n",
      "28  1198204  22092     5435   TRUE          6250.25\n",
      "29  1111237  23961     6865   TRUE          7894.75\n"
     ]
    }
   ],
   "source": [
    "import pandas as pd\n",
    "from numpy import where\n",
    "dataframe = pd.read_csv('./tmp/bank.csv')\n",
    "del(dataframe['Unnamed: 0'])\n",
    "del(dataframe['check'])\n",
    "dataframe['status'] = where(dataframe['balance']>=5000 , 'TRUE' , 'FALSE')\n",
    "\n",
    "# def balPercent(balance):\n",
    "balPercent = lambda balance : balance + (balance * 0.15) if balance >= 5000 else balance + (balance * 0.01)\n",
    "\n",
    "dataframe['After incriment'] = dataframe['balance'].apply(balPercent)\n",
    "print(dataframe)\n"
   ]
  },
  {
   "cell_type": "code",
   "execution_count": null,
   "metadata": {},
   "outputs": [],
   "source": []
  }
 ],
 "metadata": {
  "kernelspec": {
   "display_name": "Python 3",
   "language": "python",
   "name": "python3"
  },
  "language_info": {
   "codemirror_mode": {
    "name": "ipython",
    "version": 3
   },
   "file_extension": ".py",
   "mimetype": "text/x-python",
   "name": "python",
   "nbconvert_exporter": "python",
   "pygments_lexer": "ipython3",
   "version": "3.7.0"
  }
 },
 "nbformat": 4,
 "nbformat_minor": 2
}
