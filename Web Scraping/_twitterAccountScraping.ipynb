{
 "cells": [
  {
   "cell_type": "markdown",
   "metadata": {},
   "source": [
    "## Imports"
   ]
  },
  {
   "cell_type": "code",
   "execution_count": 1,
   "metadata": {},
   "outputs": [],
   "source": [
    "from urllib.request import urlopen\n",
    "from bs4 import BeautifulSoup as soup\n",
    "import csv\n",
    "import re"
   ]
  },
  {
   "cell_type": "markdown",
   "metadata": {},
   "source": [
    "## Soup Creation"
   ]
  },
  {
   "cell_type": "code",
   "execution_count": 9,
   "metadata": {},
   "outputs": [],
   "source": [
    "query = '@realDonaldTrump'\n",
    "url = \"https://twitter.com/\" + query\n",
    "\n",
    "urlClient = urlopen(url)\n",
    "page = urlClient.read()\n",
    "urlClient.close()\n",
    "\n",
    "pageSoup = soup(page , \"html.parser\")\n",
    "\n",
    "dataFileHeaders = \"Name,Account Status,Account Bio,Location,Joining Details,Instagram Handle,Tweet Count,Follower Count,Following Count\\n\"\n",
    "tweetFileHeaders = \"Tweet,Replies,Retweets,Likes\\n\""
   ]
  },
  {
   "cell_type": "markdown",
   "metadata": {},
   "source": [
    "## Structure Breakdown"
   ]
  },
  {
   "cell_type": "code",
   "execution_count": 10,
   "metadata": {},
   "outputs": [],
   "source": [
    "profileLeftNav = pageSoup.findAll(\"div\" , {\"class\" : \"ProfileSidebar ProfileSidebar--withLeftAlignment\"})\n",
    "profileGridCell = pageSoup.findAll(\"div\" , {\"class\" : \"Grid-cell u-size2of3 u-lg-size3of4\"})\n",
    "timeline = pageSoup.findAll(\"div\" , {\"class\" : \"ProfileTimeline\"})\n",
    "tweetContainer = pageSoup.findAll(\"div\" , {\"class\" : \"js-tweet-text-container\"})\n",
    "tweetFooter = pageSoup.findAll(\"div\" , {\"class\" : \"ProfileTweet-actionCountList u-hiddenVisually\"})"
   ]
  },
  {
   "cell_type": "markdown",
   "metadata": {},
   "source": [
    "## Scraping Left Navigation and Writing the same"
   ]
  },
  {
   "cell_type": "code",
   "execution_count": 11,
   "metadata": {
    "scrolled": true
   },
   "outputs": [],
   "source": [
    "try: \n",
    "    dataFile = open(\"./tmp/\" + query.strip().replace(\"@\",\"\") + \".csv\" , \"w\")\n",
    "    dataFile.write(dataFileHeaders)\n",
    "    \n",
    "    for element,details in zip(profileLeftNav,profileGridCell):\n",
    "        name = element.findAll(\"a\" , {\"class\" : \"ProfileHeaderCard-nameLink u-textInheritColor js-nav\"})[0].text\n",
    "        accountStatus = element.div.h1.findAll(\"a\" , {\"class\" : \"js-tooltip\"})[0].text\n",
    "        accountBio = element.findAll(\"p\" , {\"class\" : \"ProfileHeaderCard-bio u-dir\"})[0].text\n",
    "        location = element.findAll(\"span\" , {\"class\" : \"ProfileHeaderCard-locationText u-dir\"})[0].text\n",
    "        joinedDetails = element.find(\"span\" , {\"class\" : \"ProfileHeaderCard-joinDateText js-tooltip u-dir\"})['title']\n",
    "        instagramLink = element.find(\"a\" , {\"class\" : \"u-textUserColor\"})['title']\n",
    "\n",
    "        tweetCount = details.find(\"li\" , {\"class\" : \"ProfileNav-item ProfileNav-item--tweets is-active\"}).a.find(\"span\" , {\"class\" : \"ProfileNav-value\"})['data-count']\n",
    "        followingCount =  details.find(\"li\" , {\"class\" : \"ProfileNav-item ProfileNav-item--following\"}).a.find(\"span\" , {\"class\" : \"ProfileNav-value\"})['data-count']\n",
    "        followerCount = details.find(\"li\" , {\"class\" : \"ProfileNav-item ProfileNav-item--followers\"}).a.find(\"span\" , {\"class\" : \"ProfileNav-value\"})['data-count']   \n",
    "\n",
    "    dataFile.write(name.strip().replace(\",\",\"\") + \",\" + accountStatus.strip().replace(\",\",\"\") + \",\" + accountBio.strip().replace(\",\",\"\") + \",\" + location.strip().replace(\",\",\"\") + \",\" + joinedDetails.strip().replace(\",\",\"\") + \",\" + instagramLink.strip().replace(\",\",\"\") + \",\" + tweetCount.strip().replace(\",\",\"\") + \",\" + followerCount.strip().replace(\",\",\"\") + \",\" + followingCount.strip().replace(\",\",\"\") + \"\\n\")  \n",
    "\n",
    "except Exception as e:\n",
    "    print(\"Something went wrong\")\n",
    "    print(e)\n",
    "\n",
    "finally:\n",
    "    dataFile.close()\n"
   ]
  },
  {
   "cell_type": "markdown",
   "metadata": {},
   "source": [
    "## Tweets of the account and writing the same"
   ]
  },
  {
   "cell_type": "code",
   "execution_count": 12,
   "metadata": {},
   "outputs": [],
   "source": [
    "try:\n",
    "    tweetsFile = open(\"./tmp/\" + query.replace(\"@\",\"\") + \"tweets\" + \".csv\" , \"w\")\n",
    "    tweetsFile.write(tweetFileHeaders)\n",
    "\n",
    "    for iterator in range(0,len(tweetContainer)):\n",
    "        tweet = tweetContainer[iterator].text.strip()\n",
    "        replies = \"\".join(re.findall(\"[^a-z\\s,]\",tweetFooter[iterator].text.replace(\"\\n\",\" \").strip().split(\"     \")[0])).replace(\",\",\"\")\n",
    "        retweets = \"\".join(re.findall(\"[^a-z\\s,]\",tweetFooter[iterator].text.replace(\"\\n\",\" \").strip().split(\"     \")[1])).replace(\",\",\"\")\n",
    "        likes = \"\".join(re.findall(\"[^a-z\\s,]\",tweetFooter[iterator].text.replace(\"\\n\",\" \").strip().split(\"     \")[2])).replace(\",\",\"\")\n",
    "        tweetsFile.write(tweet.replace(\",\" , \"\") + \",\" + replies + \",\" + retweets + \",\" + likes + \"\\n\")\n",
    "except Exception as e:\n",
    "    print(\"Something went wrong\")\n",
    "    print(e)\n",
    "finally:\n",
    "    tweetsFile.close()"
   ]
  },
  {
   "cell_type": "markdown",
   "metadata": {},
   "source": [
    "## Reading live-time tweets for the query, putting it in the dataframe"
   ]
  },
  {
   "cell_type": "code",
   "execution_count": 13,
   "metadata": {},
   "outputs": [
    {
     "data": {
      "text/html": [
       "<div>\n",
       "<style scoped>\n",
       "    .dataframe tbody tr th:only-of-type {\n",
       "        vertical-align: middle;\n",
       "    }\n",
       "\n",
       "    .dataframe tbody tr th {\n",
       "        vertical-align: top;\n",
       "    }\n",
       "\n",
       "    .dataframe thead th {\n",
       "        text-align: right;\n",
       "    }\n",
       "</style>\n",
       "<table border=\"1\" class=\"dataframe\">\n",
       "  <thead>\n",
       "    <tr style=\"text-align: right;\">\n",
       "      <th></th>\n",
       "      <th>Name</th>\n",
       "      <th>Account Status</th>\n",
       "      <th>Account Bio</th>\n",
       "      <th>Location</th>\n",
       "      <th>Joining Details</th>\n",
       "      <th>Instagram Handle</th>\n",
       "      <th>Tweet Count</th>\n",
       "      <th>Follower Count</th>\n",
       "      <th>Following Count</th>\n",
       "    </tr>\n",
       "    <tr>\n",
       "      <th>Handle</th>\n",
       "      <th></th>\n",
       "      <th></th>\n",
       "      <th></th>\n",
       "      <th></th>\n",
       "      <th></th>\n",
       "      <th></th>\n",
       "      <th></th>\n",
       "      <th></th>\n",
       "      <th></th>\n",
       "    </tr>\n",
       "  </thead>\n",
       "  <tbody>\n",
       "    <tr>\n",
       "      <th>@realDonaldTrump</th>\n",
       "      <td>Donald J. Trump</td>\n",
       "      <td>Verified account</td>\n",
       "      <td>45th President of the United States of America</td>\n",
       "      <td>Washington DC</td>\n",
       "      <td>6:46 AM - 18 Mar 2009</td>\n",
       "      <td>http://www.Instagram.com/realDonaldTrump</td>\n",
       "      <td>39946</td>\n",
       "      <td>56246667</td>\n",
       "      <td>46</td>\n",
       "    </tr>\n",
       "  </tbody>\n",
       "</table>\n",
       "</div>"
      ],
      "text/plain": [
       "                             Name    Account Status  \\\n",
       "Handle                                                \n",
       "@realDonaldTrump  Donald J. Trump  Verified account   \n",
       "\n",
       "                                                     Account Bio  \\\n",
       "Handle                                                             \n",
       "@realDonaldTrump  45th President of the United States of America   \n",
       "\n",
       "                       Location        Joining Details  \\\n",
       "Handle                                                   \n",
       "@realDonaldTrump  Washington DC  6:46 AM - 18 Mar 2009   \n",
       "\n",
       "                                          Instagram Handle  Tweet Count  \\\n",
       "Handle                                                                    \n",
       "@realDonaldTrump  http://www.Instagram.com/realDonaldTrump        39946   \n",
       "\n",
       "                  Follower Count  Following Count  \n",
       "Handle                                             \n",
       "@realDonaldTrump        56246667               46  "
      ]
     },
     "execution_count": 13,
     "metadata": {},
     "output_type": "execute_result"
    }
   ],
   "source": [
    "import pandas\n",
    "tweetFrame = pandas.read_csv(\"./tmp/\" + query.replace(\"@\",\"\") + \"tweets\" + \".csv\" , encoding = \"ISO-8859-1\")\n",
    "accountDetailsFrame = pandas.read_csv(\"./tmp/\" + query.strip().replace(\"@\",\"\") + \".csv\")\n",
    "accountDetailsFrame['Handle'] = query\n",
    "accountDetailsFrame.set_index('Handle')"
   ]
  },
  {
   "cell_type": "code",
   "execution_count": 15,
   "metadata": {
    "scrolled": false
   },
   "outputs": [
    {
     "data": {
      "text/html": [
       "<div>\n",
       "<style scoped>\n",
       "    .dataframe tbody tr th:only-of-type {\n",
       "        vertical-align: middle;\n",
       "    }\n",
       "\n",
       "    .dataframe tbody tr th {\n",
       "        vertical-align: top;\n",
       "    }\n",
       "\n",
       "    .dataframe thead th {\n",
       "        text-align: right;\n",
       "    }\n",
       "</style>\n",
       "<table border=\"1\" class=\"dataframe\">\n",
       "  <thead>\n",
       "    <tr style=\"text-align: right;\">\n",
       "      <th></th>\n",
       "      <th>Tweet</th>\n",
       "      <th>Replies</th>\n",
       "      <th>Retweets</th>\n",
       "      <th>Likes</th>\n",
       "    </tr>\n",
       "  </thead>\n",
       "  <tbody>\n",
       "    <tr>\n",
       "      <th>0</th>\n",
       "      <td>Judge Ken Starr former Solicitor Generel &amp; Ind...</td>\n",
       "      <td>8484</td>\n",
       "      <td>5650</td>\n",
       "      <td>19672</td>\n",
       "    </tr>\n",
       "    <tr>\n",
       "      <th>1</th>\n",
       "      <td>At the request of many I will be reviewing the...</td>\n",
       "      <td>4973</td>\n",
       "      <td>7036</td>\n",
       "      <td>24707</td>\n",
       "    </tr>\n",
       "    <tr>\n",
       "      <th>2</th>\n",
       "      <td>Remember Michael Cohen only became a Rat aft...</td>\n",
       "      <td>18324</td>\n",
       "      <td>10828</td>\n",
       "      <td>38012</td>\n",
       "    </tr>\n",
       "    <tr>\n",
       "      <th>3</th>\n",
       "      <td>So where are all the missing Text messages bet...</td>\n",
       "      <td>11764</td>\n",
       "      <td>10415</td>\n",
       "      <td>37918</td>\n",
       "    </tr>\n",
       "    <tr>\n",
       "      <th>4</th>\n",
       "      <td>A REAL scandal is the one sided coverage hour ...</td>\n",
       "      <td>21379</td>\n",
       "      <td>9955</td>\n",
       "      <td>37799</td>\n",
       "    </tr>\n",
       "    <tr>\n",
       "      <th>5</th>\n",
       "      <td>Wow 19000 Texts between Lisa Page and her love...</td>\n",
       "      <td>37357</td>\n",
       "      <td>31401</td>\n",
       "      <td>103931</td>\n",
       "    </tr>\n",
       "    <tr>\n",
       "      <th>6</th>\n",
       "      <td>The pathetic and dishonest Weekly Standard run...</td>\n",
       "      <td>27888</td>\n",
       "      <td>20664</td>\n",
       "      <td>89921</td>\n",
       "    </tr>\n",
       "    <tr>\n",
       "      <th>7</th>\n",
       "      <td>Never in the history of our Country has the p...</td>\n",
       "      <td>45351</td>\n",
       "      <td>33480</td>\n",
       "      <td>124586</td>\n",
       "    </tr>\n",
       "    <tr>\n",
       "      <th>8</th>\n",
       "      <td>.......The Trump Administration will be announ...</td>\n",
       "      <td>12572</td>\n",
       "      <td>9983</td>\n",
       "      <td>54596</td>\n",
       "    </tr>\n",
       "    <tr>\n",
       "      <th>9</th>\n",
       "      <td>Secretary of the Interior @RyanZinke will be l...</td>\n",
       "      <td>15491</td>\n",
       "      <td>10794</td>\n",
       "      <td>56114</td>\n",
       "    </tr>\n",
       "    <tr>\n",
       "      <th>10</th>\n",
       "      <td>Wow but not surprisingly ObamaCare was just ru...</td>\n",
       "      <td>37431</td>\n",
       "      <td>29420</td>\n",
       "      <td>123688</td>\n",
       "    </tr>\n",
       "    <tr>\n",
       "      <th>11</th>\n",
       "      <td>As I predicted all along Obamacare has been st...</td>\n",
       "      <td>24555</td>\n",
       "      <td>30877</td>\n",
       "      <td>123824</td>\n",
       "    </tr>\n",
       "    <tr>\n",
       "      <th>12</th>\n",
       "      <td>For the record there were MANY people who want...</td>\n",
       "      <td>33311</td>\n",
       "      <td>12561</td>\n",
       "      <td>66326</td>\n",
       "    </tr>\n",
       "    <tr>\n",
       "      <th>13</th>\n",
       "      <td>....I look forward to working with him in this...</td>\n",
       "      <td>8671</td>\n",
       "      <td>11979</td>\n",
       "      <td>57002</td>\n",
       "    </tr>\n",
       "    <tr>\n",
       "      <th>14</th>\n",
       "      <td>I am pleased to announce that Mick Mulvaney Di...</td>\n",
       "      <td>14135</td>\n",
       "      <td>16698</td>\n",
       "      <td>74132</td>\n",
       "    </tr>\n",
       "    <tr>\n",
       "      <th>15</th>\n",
       "      <td>Thank you to @tim_cook for agreeing to expand ...</td>\n",
       "      <td>7318</td>\n",
       "      <td>12608</td>\n",
       "      <td>56964</td>\n",
       "    </tr>\n",
       "    <tr>\n",
       "      <th>16</th>\n",
       "      <td>....Kim Jong Un sees it better than anyone and...</td>\n",
       "      <td>7978</td>\n",
       "      <td>10942</td>\n",
       "      <td>54346</td>\n",
       "    </tr>\n",
       "    <tr>\n",
       "      <th>17</th>\n",
       "      <td>Many people have asked how we are doing in our...</td>\n",
       "      <td>7440</td>\n",
       "      <td>13335</td>\n",
       "      <td>65786</td>\n",
       "    </tr>\n",
       "    <tr>\n",
       "      <th>18</th>\n",
       "      <td>China just announced that their economy is gro...</td>\n",
       "      <td>20024</td>\n",
       "      <td>26385</td>\n",
       "      <td>123003</td>\n",
       "    </tr>\n",
       "    <tr>\n",
       "      <th>19</th>\n",
       "      <td>Lets not do a shutdown Democrats - do whats ...</td>\n",
       "      <td>57095</td>\n",
       "      <td>37626</td>\n",
       "      <td>124039</td>\n",
       "    </tr>\n",
       "  </tbody>\n",
       "</table>\n",
       "</div>"
      ],
      "text/plain": [
       "                                                Tweet  Replies  Retweets  \\\n",
       "0   Judge Ken Starr former Solicitor Generel & Ind...     8484      5650   \n",
       "1   At the request of many I will be reviewing the...     4973      7036   \n",
       "2   Remember Michael Cohen only became a Rat aft...    18324     10828   \n",
       "3   So where are all the missing Text messages bet...    11764     10415   \n",
       "4   A REAL scandal is the one sided coverage hour ...    21379      9955   \n",
       "5   Wow 19000 Texts between Lisa Page and her love...    37357     31401   \n",
       "6   The pathetic and dishonest Weekly Standard run...    27888     20664   \n",
       "7   Never in the history of our Country has the p...    45351     33480   \n",
       "8   .......The Trump Administration will be announ...    12572      9983   \n",
       "9   Secretary of the Interior @RyanZinke will be l...    15491     10794   \n",
       "10  Wow but not surprisingly ObamaCare was just ru...    37431     29420   \n",
       "11  As I predicted all along Obamacare has been st...    24555     30877   \n",
       "12  For the record there were MANY people who want...    33311     12561   \n",
       "13  ....I look forward to working with him in this...     8671     11979   \n",
       "14  I am pleased to announce that Mick Mulvaney Di...    14135     16698   \n",
       "15  Thank you to @tim_cook for agreeing to expand ...     7318     12608   \n",
       "16  ....Kim Jong Un sees it better than anyone and...     7978     10942   \n",
       "17  Many people have asked how we are doing in our...     7440     13335   \n",
       "18  China just announced that their economy is gro...    20024     26385   \n",
       "19  Lets not do a shutdown Democrats - do whats ...    57095     37626   \n",
       "\n",
       "     Likes  \n",
       "0    19672  \n",
       "1    24707  \n",
       "2    38012  \n",
       "3    37918  \n",
       "4    37799  \n",
       "5   103931  \n",
       "6    89921  \n",
       "7   124586  \n",
       "8    54596  \n",
       "9    56114  \n",
       "10  123688  \n",
       "11  123824  \n",
       "12   66326  \n",
       "13   57002  \n",
       "14   74132  \n",
       "15   56964  \n",
       "16   54346  \n",
       "17   65786  \n",
       "18  123003  \n",
       "19  124039  "
      ]
     },
     "execution_count": 15,
     "metadata": {},
     "output_type": "execute_result"
    }
   ],
   "source": [
    "tweetFrame"
   ]
  },
  {
   "cell_type": "markdown",
   "metadata": {},
   "source": [
    "## Plotting the data"
   ]
  },
  {
   "cell_type": "code",
   "execution_count": 22,
   "metadata": {},
   "outputs": [],
   "source": [
    "import matplotlib.pyplot as pyplot"
   ]
  },
  {
   "cell_type": "code",
   "execution_count": 24,
   "metadata": {},
   "outputs": [
    {
     "data": {
      "text/plain": [
       "[<matplotlib.lines.Line2D at 0x6950710>]"
      ]
     },
     "execution_count": 24,
     "metadata": {},
     "output_type": "execute_result"
    },
    {
     "data": {
      "image/png": "[encoded data removed]",
      "text/plain": [
       "<Figure size 432x288 with 1 Axes>"
      ]
     },
     "metadata": {
      "needs_background": "light"
     },
     "output_type": "display_data"
    }
   ],
   "source": [
    "pyplot.plot(tweetFrame.Likes , tweetFrame.index)"
   ]
  },
  {
   "cell_type": "code",
   "execution_count": null,
   "metadata": {},
   "outputs": [],
   "source": []
  }
 ],
 "metadata": {
  "kernelspec": {
   "display_name": "Python 3",
   "language": "python",
   "name": "python3"
  },
  "language_info": {
   "codemirror_mode": {
    "name": "ipython",
    "version": 3
   },
   "file_extension": ".py",
   "mimetype": "text/x-python",
   "name": "python",
   "nbconvert_exporter": "python",
   "pygments_lexer": "ipython3",
   "version": "3.7.0"
  }
 },
 "nbformat": 4,
 "nbformat_minor": 2
}
