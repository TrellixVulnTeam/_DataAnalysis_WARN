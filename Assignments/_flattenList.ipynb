{
 "cells": [
  {
   "cell_type": "code",
   "execution_count": 5,
   "metadata": {},
   "outputs": [
    {
     "name": "stdout",
     "output_type": "stream",
     "text": [
      "[1, 2, 3, 4, 5, 6, 7, 8, 9, 1, 2, 1]\n"
     ]
    }
   ],
   "source": [
    "def flattenList(rawList , * , flattenedList = []):\n",
    "    for item in rawList:\n",
    "        if type(item) is list:\n",
    "            flattenList(item,flattenedList = flattenedList)\n",
    "        else:\n",
    "            flattenedList.append(item)\n",
    "    return(flattenedList)\n",
    "rawList = [[1,2,3],[4,5,6],[7,8,9,[1,2]],1]\n",
    "print(flattenList(rawList))"
   ]
  },
  {
   "cell_type": "code",
   "execution_count": 52,
   "metadata": {},
   "outputs": [
    {
     "data": {
      "text/plain": [
       "[1, 2, 3, 4, 5, 6, 7, 8, 9, 5]"
      ]
     },
     "execution_count": 52,
     "metadata": {},
     "output_type": "execute_result"
    }
   ],
   "source": [
    "from collections import Iterable\n",
    "def flatten(list):\n",
    "    if isinstance(list, Iterable):\n",
    "        return [element for iterator in list for element in flatten(iterator)]\n",
    "    else:\n",
    "        return [list]\n",
    "list = [[1,2,3],[4,5,6],[7,8,9],5]\n",
    "flatten(list)    "
   ]
  },
  {
   "cell_type": "code",
   "execution_count": null,
   "metadata": {},
   "outputs": [],
   "source": []
  }
 ],
 "metadata": {
  "kernelspec": {
   "display_name": "Python 3",
   "language": "python",
   "name": "python3"
  },
  "language_info": {
   "codemirror_mode": {
    "name": "ipython",
    "version": 3
   },
   "file_extension": ".py",
   "mimetype": "text/x-python",
   "name": "python",
   "nbconvert_exporter": "python",
   "pygments_lexer": "ipython3",
   "version": "3.7.0"
  }
 },
 "nbformat": 4,
 "nbformat_minor": 2
}
