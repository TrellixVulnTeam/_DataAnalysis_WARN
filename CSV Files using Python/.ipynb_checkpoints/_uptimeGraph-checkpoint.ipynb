{
 "cells": [
  {
   "cell_type": "code",
   "execution_count": 11,
   "metadata": {},
   "outputs": [
    {
     "name": "stdout",
     "output_type": "stream",
     "text": [
      "0     Fri Dec  7 08:40:00 IST 2018\n",
      "1     Fri Dec  7 08:41:00 IST 2018\n",
      "2     Fri Dec  7 08:42:00 IST 2018\n",
      "3     Fri Dec  7 08:43:00 IST 2018\n",
      "4     Fri Dec  7 08:44:00 IST 2018\n",
      "5     Fri Dec  7 08:45:00 IST 2018\n",
      "6     Fri Dec  7 08:46:00 IST 2018\n",
      "7     Fri Dec  7 08:47:00 IST 2018\n",
      "8     Fri Dec  7 08:48:00 IST 2018\n",
      "9     Fri Dec  7 08:48:00 IST 2018\n",
      "10    Fri Dec  7 08:50:00 IST 2018\n",
      "11    Fri Dec  7 08:51:00 IST 2018\n",
      "12    Fri Dec  7 08:52:00 IST 2018\n",
      "13    Fri Dec  7 08:53:00 IST 2018\n",
      "14    Fri Dec  7 08:54:00 IST 2018\n",
      "15    Fri Dec  7 08:55:00 IST 2018\n",
      "16    Fri Dec  7 08:56:00 IST 2018\n",
      "17    Fri Dec  7 08:57:00 IST 2018\n",
      "18    Fri Dec  7 08:58:00 IST 2018\n",
      "19    Fri Dec  7 08:58:00 IST 2018\n",
      "20    Fri Dec  7 08:40:00 IST 2018\n",
      "21    Fri Dec  7 08:41:00 IST 2018\n",
      "22    Fri Dec  7 08:42:00 IST 2018\n",
      "23    Fri Dec  7 08:43:00 IST 2018\n",
      "24    Fri Dec  7 08:44:00 IST 2018\n",
      "25    Fri Dec  7 08:45:00 IST 2018\n",
      "26    Fri Dec  7 08:46:00 IST 2018\n",
      "27    Fri Dec  7 08:47:00 IST 2018\n",
      "28    Fri Dec  7 08:48:00 IST 2018\n",
      "29    Fri Dec  7 08:48:00 IST 2018\n",
      "30    Fri Dec  7 08:50:00 IST 2018\n",
      "31    Fri Dec  7 08:51:00 IST 2018\n",
      "32    Fri Dec  7 08:52:00 IST 2018\n",
      "33    Fri Dec  7 08:53:00 IST 2018\n",
      "34    Fri Dec  7 08:54:00 IST 2018\n",
      "35    Fri Dec  7 08:55:00 IST 2018\n",
      "36    Fri Dec  7 08:56:00 IST 2018\n",
      "37    Fri Dec  7 08:57:00 IST 2018\n",
      "38    Fri Dec  7 08:58:00 IST 2018\n",
      "39    Fri Dec  7 08:58:00 IST 2018\n",
      "Name: timestamp, dtype: object\n"
     ]
    }
   ],
   "source": [
    "import pandas as pd\n",
    "from matplotlib import pyplot\n",
    "import numpy as np\n",
    "# import numpy as np\n",
    "\n",
    "# datetime.datetime.strptime(\"2014-06-04 12:34:56\", time_format)\n",
    "dataFrame = pd.read_csv(\"./tmp/sample.csv\")\n",
    "# print(dataFrame['timestamp'])\n",
    "# pyplot.xlabel(\"Timestamp\")\n",
    "# pyplot.ylabel(\"Up - Down\")\n",
    "print(dataFrame['timestamp'].str.split())\n",
    "# pyplot.plot(dataFrame['timestamp'].split,np.array(dataFrame['host']))\n",
    "pyplot.show()\n",
    "# print(dataFrame[''])"
   ]
  },
  {
   "cell_type": "code",
   "execution_count": null,
   "metadata": {},
   "outputs": [],
   "source": []
  }
 ],
 "metadata": {
  "kernelspec": {
   "display_name": "Python 3",
   "language": "python",
   "name": "python3"
  },
  "language_info": {
   "codemirror_mode": {
    "name": "ipython",
    "version": 3
   },
   "file_extension": ".py",
   "mimetype": "text/x-python",
   "name": "python",
   "nbconvert_exporter": "python",
   "pygments_lexer": "ipython3",
   "version": "3.7.0"
  }
 },
 "nbformat": 4,
 "nbformat_minor": 2
}
