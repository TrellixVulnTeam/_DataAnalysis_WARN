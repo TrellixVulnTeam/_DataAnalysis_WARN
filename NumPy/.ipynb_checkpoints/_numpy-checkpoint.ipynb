{
 "cells": [
  {
   "cell_type": "code",
   "execution_count": null,
   "metadata": {},
   "outputs": [],
   "source": [
    "# import numpy as np\n",
    "# A numpy array is defined in the following manner where our number of rows are 3 and number of columns are 4 making it a 3x4 matrix\n",
    "matrix = np.array([[1,2,3,4],\n",
    "                  [5,6,7,8],\n",
    "                  [9,10,11,12]])\n",
    "\n",
    "print(matrix.shape)\n",
    "\n",
    "# You can even set your own shape, i.e. the dimensions of the numpy array. The dimensions should be the multiples of the total number of elements in the numpy array which is 12 in our case\n",
    "matrix.shape = (2,6)\n",
    "# Gives you a numpy array with 2 rows and 6 columns.\n",
    "print(\"\\n\\nA 2x6 Matrix : \")\n",
    "print(matrix)"
   ]
  },
  {
   "cell_type": "code",
   "execution_count": 39,
   "metadata": {},
   "outputs": [
    {
     "name": "stdout",
     "output_type": "stream",
     "text": [
      "The array : \n",
      "[[[ 0  1  2]\n",
      "  [ 3  4  5]\n",
      "  [ 6  7  8]]\n",
      "\n",
      " [[ 9 10 11]\n",
      "  [12 13 14]\n",
      "  [15 16 17]]\n",
      "\n",
      " [[18 19 20]\n",
      "  [21 22 23]\n",
      "  [24 25 26]]]\n",
      "\n",
      " Number of dimensions : 3\n",
      "4\n"
     ]
    }
   ],
   "source": [
    "# arange will give you a numpy array of evenly spaced numbers of a one dimensional array and reshape the array by passing the dimensions\n",
    "# We have created a 3-dimensional array here. ndim is used to get the number of dimension a numpy has\n",
    "ndarray = np.array(np.arange(27),dtype = np.int32).reshape(3,3,3)\n",
    "print(\"The array : \")\n",
    "print(ndarray)\n",
    "\n",
    "print(\"\\n Number of dimensions : \",end = \"\")\n",
    "print(ndarray.ndim)\n",
    "# dtype we have used is the datatype of the elements of the array which is by default int32, i.e 32/8=4 bytes per element\n",
    "print(ndarray.itemsize)"
   ]
  },
  {
   "cell_type": "code",
   "execution_count": 43,
   "metadata": {},
   "outputs": [
    {
     "name": "stdout",
     "output_type": "stream",
     "text": [
      "[[    112     114     105     110]\n",
      " [    116      40     109      97]\n",
      " [    116     114     105     120]\n",
      " [     41 6357106 6815856     121]]\n"
     ]
    }
   ],
   "source": [
    "# It will create an empty numpy array of dimensions mentioned and the datatype initialized\n",
    "emptyArray = np.empty([4,4],dtype = int)\n",
    "print(emptyArray)"
   ]
  },
  {
   "cell_type": "code",
   "execution_count": 52,
   "metadata": {},
   "outputs": [
    {
     "data": {
      "text/plain": [
       "array([0, 0, 0, 0, 0])"
      ]
     },
     "execution_count": 52,
     "metadata": {},
     "output_type": "execute_result"
    }
   ],
   "source": [
    "type(np.zeros((20))[0])\n",
    "# Creates numpy array of zeros\n",
    "np.zeros((5),dtype = int)\n"
   ]
  },
  {
   "cell_type": "code",
   "execution_count": 55,
   "metadata": {},
   "outputs": [
    {
     "name": "stdout",
     "output_type": "stream",
     "text": [
      "[1 2 3 4 5 6 7 8 9]\n",
      "[[1 2 3]\n",
      " [4 5 6]\n",
      " [7 8 9]]\n"
     ]
    }
   ],
   "source": [
    "list = [1,2,3,4,5,6,7,8,9]\n",
    "listOfTuples = [(1,2,3),(4,5,6),(7,8,9)]\n",
    "numpyListArray = np.asarray(list)\n",
    "numpyListTupleArray = np.asarray(listOfTuples)\n",
    "print (numpyListArray)\n",
    "print (numpyListTupleArray)"
   ]
  },
  {
   "cell_type": "code",
   "execution_count": 71,
   "metadata": {},
   "outputs": [
    {
     "data": {
      "text/plain": [
       "array([b'T', b'e', b'j', b'a', b's', b' ', b'S', b'h', b'i', b'n', b'd',\n",
       "       b'e'], dtype='|S1')"
      ]
     },
     "execution_count": 71,
     "metadata": {},
     "output_type": "execute_result"
    }
   ],
   "source": [
    "string = 'Tejas Shinde'\n",
    "# The letter 'b' is used to display the byte strings\n",
    "np.frombuffer(b'Tejas Shinde' , dtype = 'S1')"
   ]
  },
  {
   "cell_type": "code",
   "execution_count": 77,
   "metadata": {},
   "outputs": [
    {
     "name": "stdout",
     "output_type": "stream",
     "text": [
      "[ 0  1  2  3  4  5  6  7  8  9 10 11 12 13 14 15 16 17 18 19 20 21 22 23\n",
      " 24 25 26 27 28 29 30 31 32 33 34 35 36 37 38 39 40 41 42 43 44 45 46 47\n",
      " 48 49]\n"
     ]
    }
   ],
   "source": [
    "list = range(50)\n",
    "iterator = iter(list)\n",
    "\n",
    "# Using this iterator to create a numpy array FROM 0-50 which is the range given by us\n",
    "iteratorArray = np.fromiter(iterator , dtype = int)\n",
    "print(iteratorArray)"
   ]
  },
  {
   "cell_type": "code",
   "execution_count": null,
   "metadata": {},
   "outputs": [],
   "source": []
  }
 ],
 "metadata": {
  "kernelspec": {
   "display_name": "Python 3",
   "language": "python",
   "name": "python3"
  },
  "language_info": {
   "codemirror_mode": {
    "name": "ipython",
    "version": 3
   },
   "file_extension": ".py",
   "mimetype": "text/x-python",
   "name": "python",
   "nbconvert_exporter": "python",
   "pygments_lexer": "ipython3",
   "version": "3.7.0"
  }
 },
 "nbformat": 4,
 "nbformat_minor": 2
}
