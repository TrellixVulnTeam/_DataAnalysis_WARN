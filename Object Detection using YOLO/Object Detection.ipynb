{
 "cells": [
  {
   "cell_type": "code",
   "execution_count": 1,
   "metadata": {},
   "outputs": [
    {
     "name": "stdout",
     "output_type": "stream",
     "text": [
      "Collecting cython\n",
      "  Downloading https://files.pythonhosted.org/packages/de/94/d86f9dde26afe40c43085e2da68c2f49869e35174deda8f8aadc34398bbe/Cython-0.29.2-cp37-cp37m-win32.whl (1.6MB)\n",
      "Installing collected packages: cython\n",
      "Successfully installed cython-0.29.2\n"
     ]
    }
   ],
   "source": [
    "!pip install cython"
   ]
  },
  {
   "cell_type": "code",
   "execution_count": 2,
   "metadata": {},
   "outputs": [
    {
     "name": "stdout",
     "output_type": "stream",
     "text": [
      "Requirement already up-to-date: tensorflow in d:\\programs\\python\\python37-32\\lib\\site-packages (1.0.0)\n",
      "Requirement already satisfied, skipping upgrade: six>=1.10.0 in d:\\programs\\python\\python37-32\\lib\\site-packages (from tensorflow) (1.11.0)\n",
      "Requirement already satisfied, skipping upgrade: protobuf>=3.1.0 in d:\\programs\\python\\python37-32\\lib\\site-packages (from tensorflow) (3.6.1)\n",
      "Requirement already satisfied, skipping upgrade: numpy>=1.11.0 in d:\\programs\\python\\python37-32\\lib\\site-packages (from tensorflow) (1.15.4)\n",
      "Requirement already satisfied, skipping upgrade: wheel>=0.26 in d:\\programs\\python\\python37-32\\lib\\site-packages (from tensorflow) (0.32.3)\n",
      "Requirement already satisfied, skipping upgrade: setuptools in d:\\programs\\python\\python37-32\\lib\\site-packages (from protobuf>=3.1.0->tensorflow) (40.6.3)\n"
     ]
    }
   ],
   "source": [
    "!pip install -U tensorflow"
   ]
  },
  {
   "cell_type": "code",
   "execution_count": null,
   "metadata": {},
   "outputs": [],
   "source": []
  }
 ],
 "metadata": {
  "kernelspec": {
   "display_name": "Python 3",
   "language": "python",
   "name": "python3"
  },
  "language_info": {
   "codemirror_mode": {
    "name": "ipython",
    "version": 3
   },
   "file_extension": ".py",
   "mimetype": "text/x-python",
   "name": "python",
   "nbconvert_exporter": "python",
   "pygments_lexer": "ipython3",
   "version": "3.7.0"
  }
 },
 "nbformat": 4,
 "nbformat_minor": 2
}
